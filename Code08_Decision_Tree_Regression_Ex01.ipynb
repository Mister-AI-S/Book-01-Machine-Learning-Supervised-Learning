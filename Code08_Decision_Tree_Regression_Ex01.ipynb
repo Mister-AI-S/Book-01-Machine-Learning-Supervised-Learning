{
 "cells": [
  {
   "cell_type": "markdown",
   "id": "7306919c-2a08-4766-8cbe-3540913c6ee3",
   "metadata": {},
   "source": [
    "# Decision Tree Regressor implementation step-by-step"
   ]
  },
  {
   "cell_type": "markdown",
   "id": "16241f6a-6a3f-408b-aa11-a96584b52063",
   "metadata": {},
   "source": [
    "## Step 1: Importing Required Libraries"
   ]
  },
  {
   "cell_type": "code",
   "execution_count": 57,
   "id": "7d96ea0c-503d-4e35-920f-b5ade6b0fe2a",
   "metadata": {},
   "outputs": [],
   "source": [
    "import numpy as np\n",
    "import pandas as pd\n",
    "import matplotlib.pyplot as plt"
   ]
  },
  {
   "cell_type": "markdown",
   "id": "51cae986-c260-41fb-b909-86083131b607",
   "metadata": {},
   "source": [
    "## Step 2: Mean Squared Error (MSE) Function\n",
    "\n",
    "#### The MSE function is used to evaluate how well the split has performed. The closer the MSE is to 0, the better the split (as the data points in each group are closer to their average)."
   ]
  },
  {
   "cell_type": "code",
   "execution_count": 11,
   "id": "6f212f65-43ee-4916-b749-1195881d362e",
   "metadata": {},
   "outputs": [],
   "source": [
    "# Mean Squared Error (MSE) function\n",
    "def mse(y):\n",
    "    return np.mean((y - np.mean(y)) ** 2)"
   ]
  },
  {
   "cell_type": "markdown",
   "id": "b91aa047-042a-4e4e-99ca-b7bcd2756cce",
   "metadata": {},
   "source": [
    "### Explanation:\n",
    "\n",
    "#### y is the array of target values (e.g., prices).\n",
    "#### np.mean(y) gives the average of all target values.\n",
    "#### The difference between each target value and the average is squared, and then we take the mean of those squared differences. This is the MSE."
   ]
  },
  {
   "cell_type": "markdown",
   "id": "4f115261-0af4-4277-976f-5b31db22494d",
   "metadata": {},
   "source": [
    "## Step 3: Splitting the Data\n",
    "#### The split_data function splits the data based on a feature and threshold."
   ]
  },
  {
   "cell_type": "code",
   "execution_count": 15,
   "id": "08292bf0-1f8c-4d88-8532-de3da32f6625",
   "metadata": {},
   "outputs": [],
   "source": [
    "# Split data based on a threshold\n",
    "def split_data(X, y, feature_index, threshold):\n",
    "    left_mask = X[:, feature_index] <= threshold  # True for data where feature value is <= threshold\n",
    "    right_mask = ~left_mask  # True for data where feature value is > threshold\n",
    "    return X[left_mask], y[left_mask], X[right_mask], y[right_mask]"
   ]
  },
  {
   "cell_type": "markdown",
   "id": "1cc76fd0-bdc8-4c9c-b926-770580b3d1a4",
   "metadata": {},
   "source": [
    "### Explanation:\n",
    "\n",
    "#### X[:, feature_index] accesses the values of the specified feature (column).\n",
    "#### We create a mask (True/False) for data points where the feature values are less than or equal to the threshold (left_mask), and the rest goes to the right side (right_mask).\n",
    "#### X[left_mask] selects all the data points that match the left condition, and similarly for the right data points."
   ]
  },
  {
   "cell_type": "markdown",
   "id": "db708af3-5173-4bdd-9f4a-f7bcb669a5e3",
   "metadata": {},
   "source": [
    "## Step 4: Finding the Best Split\n",
    "\n",
    "#### The best_split function finds the best feature and threshold to split the data based on the Mean Squared Error (MSE)."
   ]
  },
  {
   "cell_type": "code",
   "execution_count": 19,
   "id": "8a6f3031-03fb-4cbf-b9a4-ba8dfc1e0318",
   "metadata": {},
   "outputs": [],
   "source": [
    "# Find the best split for the data\n",
    "def best_split(X, y):\n",
    "    best_mse = float(\"inf\")  # Start with a large MSE\n",
    "    best_feature = None\n",
    "    best_threshold = None\n",
    "    best_left_X, best_left_y, best_right_X, best_right_y = None, None, None, None\n",
    "    \n",
    "    for feature_index in range(X.shape[1]):  # Loop through each feature\n",
    "        thresholds = np.unique(X[:, feature_index])  # Get all unique values in the feature\n",
    "        \n",
    "        for threshold in thresholds:  # Try each unique value as a threshold\n",
    "            left_X, left_y, right_X, right_y = split_data(X, y, feature_index, threshold)\n",
    "            \n",
    "            mse_left = mse(left_y)  # Calculate MSE for the left side\n",
    "            mse_right = mse(right_y)  # Calculate MSE for the right side\n",
    "            \n",
    "            mse_split = (len(left_y) / len(y)) * mse_left + (len(right_y) / len(y)) * mse_right  # Weighted average MSE\n",
    "            \n",
    "            if mse_split < best_mse:  # If this split is better (lower MSE), update the best split\n",
    "                best_mse = mse_split\n",
    "                best_feature = feature_index\n",
    "                best_threshold = threshold\n",
    "                best_left_X, best_left_y, best_right_X, best_right_y = left_X, left_y, right_X, right_y\n",
    "    \n",
    "    return best_feature, best_threshold, best_left_X, best_left_y, best_right_X, best_right_y"
   ]
  },
  {
   "cell_type": "markdown",
   "id": "eec99f1a-4911-42d3-a0ad-95c1880521ee",
   "metadata": {},
   "source": [
    "### Explanation:\n",
    "\n",
    "#### We loop through each feature and try all unique values in that feature as possible threshold values.\n",
    "#### For each threshold, we split the data and calculate the MSE for the left and right subsets.\n",
    "#### We calculate the weighted average of the MSE for both subsets. The goal is to minimize this MSE.\n",
    "#### If a split results in a lower MSE than the previous best, we update the best split."
   ]
  },
  {
   "cell_type": "markdown",
   "id": "26ea7aa5-38b6-414f-8f3d-a6325d10f54a",
   "metadata": {},
   "source": [
    "## Step 5: Building the Tree\n",
    "\n",
    "#### Now we define the DecisionTreeRegressor class to handle the tree-building process."
   ]
  },
  {
   "cell_type": "code",
   "execution_count": 23,
   "id": "485f8f7b-3c0e-4c60-8d87-ab74ab45ffdd",
   "metadata": {},
   "outputs": [],
   "source": [
    "# Decision Tree Regressor class\n",
    "class DecisionTreeRegressor:\n",
    "    def __init__(self, max_depth=None):\n",
    "        self.max_depth = max_depth  # Max depth of the tree\n",
    "        self.tree = None  # This will hold the decision tree\n",
    "    \n",
    "    def build_tree(self, X, y, depth=0):\n",
    "        # If max depth is reached or all data points are the same, return the mean of y\n",
    "        if len(set(y)) == 1 or (self.max_depth and depth >= self.max_depth):\n",
    "            return np.mean(y)\n",
    "        \n",
    "        feature, threshold, left_X, left_y, right_X, right_y = best_split(X, y)\n",
    "        \n",
    "        if feature is None:  # If no valid split found, return the mean of y\n",
    "            return np.mean(y)\n",
    "        \n",
    "        # Recursively build the left and right branches\n",
    "        left_tree = self.build_tree(left_X, left_y, depth + 1)\n",
    "        right_tree = self.build_tree(right_X, right_y, depth + 1)\n",
    "        \n",
    "        return {\n",
    "            'feature': feature,\n",
    "            'threshold': threshold,\n",
    "            'left': left_tree,\n",
    "            'right': right_tree\n",
    "        }\n",
    "\n",
    "    def fit(self, X, y):\n",
    "        self.tree = self.build_tree(X, y)  # Train the tree by building it\n",
    "\n",
    "    def predict_single(self, x, tree):\n",
    "        if isinstance(tree, dict):  # If this is a decision node\n",
    "            if x[tree['feature']] <= tree['threshold']:\n",
    "                return self.predict_single(x, tree['left'])  # Go left\n",
    "            else:\n",
    "                return self.predict_single(x, tree['right'])  # Go right\n",
    "        else:  # If this is a leaf node, return the predicted value\n",
    "            return tree\n",
    "\n",
    "    def predict(self, X):\n",
    "        return np.array([self.predict_single(x, self.tree) for x in X])  # Predict for each sample"
   ]
  },
  {
   "cell_type": "markdown",
   "id": "28c9579d-c72d-4a2a-a7aa-f56fe40c965b",
   "metadata": {},
   "source": [
    "### Explanation:\n",
    "\n",
    "#### build_tree:\n",
    "\n",
    "####     This is the recursive function that builds the decision tree. It stops if the data is homogeneous (all target values are the same) or if the maximum depth is reached.\n",
    "####     If the data can be split, it calls best_split to find the best feature and threshold. It then builds the left and right subtrees recursively.\n",
    "####     When the recursion reaches a leaf node (a stop condition), it returns the mean of the target values in that subset.\n",
    "\n",
    "#### fit:\n",
    "\n",
    "####     This method trains the model by calling build_tree.\n",
    "\n",
    "#### predict_single:\n",
    "\n",
    "####     This method predicts the target value for a single sample by traversing the tree. It checks if the sample's feature value is less than or greater than the threshold and moves to the left or right accordingly until it reaches a leaf node.\n",
    "\n",
    "#### predict:\n",
    "\n",
    "####     This method applies predict_single to every sample in the input data and returns the predictions."
   ]
  },
  {
   "cell_type": "markdown",
   "id": "719f00d5-8246-4757-a0a3-8cb968bf0d5c",
   "metadata": {},
   "source": [
    "## Step 6: Example Usage\n",
    "\n",
    "#### Now, we create a small dataset and use our DecisionTreeRegressor to fit the model and make predictions:"
   ]
  },
  {
   "cell_type": "code",
   "execution_count": 59,
   "id": "4c90fa93-268c-4609-b05c-b588198fb02d",
   "metadata": {},
   "outputs": [
    {
     "name": "stdout",
     "output_type": "stream",
     "text": [
      "Predictions: [2.3        2.35       2.35       2.35       2.35       0.55\n",
      " 0.55       0.49       3.45       3.45       3.4        3.4\n",
      " 3.53333333 3.53333333 3.53333333 3.4       ]\n"
     ]
    },
    {
     "name": "stderr",
     "output_type": "stream",
     "text": [
      "C:\\Users\\Zakaria\\anaconda3\\Lib\\site-packages\\numpy\\core\\fromnumeric.py:3504: RuntimeWarning: Mean of empty slice.\n",
      "  return _methods._mean(a, axis=axis, dtype=dtype,\n",
      "C:\\Users\\Zakaria\\anaconda3\\Lib\\site-packages\\numpy\\core\\_methods.py:129: RuntimeWarning: invalid value encountered in scalar divide\n",
      "  ret = ret.dtype.type(ret / rcount)\n"
     ]
    }
   ],
   "source": [
    "# Sample dataset: features (Mileage, Year) and target (Price)\n",
    "X = np.array([0.5, 1.1, 1.6, 2.2, 2.8, 3.3, 3.7, 3.9, 4.5, 4.9, 5.3, 5.8, 6.5, 6.9, 7.4, 7.8]).reshape(-1,1)\n",
    "y = np.array([2.3, 2.4, 2.3, 2.4, 2.3, 0.5, 0.6, 0.49, 3.4, 3.5, 3.4, 3.4, 2.7, 2.9, 2.8, 3])\n",
    "\n",
    "# Instantiate and train the decision tree model\n",
    "model = DecisionTreeRegressor(max_depth=3)\n",
    "model.fit(X, y)\n",
    "\n",
    "# Make predictions\n",
    "predictions = model.predict(X)\n",
    "print(\"Predictions:\", predictions)"
   ]
  },
  {
   "cell_type": "markdown",
   "id": "b9e03b25-979d-4a9e-8fba-53523b20ec6f",
   "metadata": {},
   "source": [
    "### Explanation:\n",
    "\n",
    "#### We create a small dataset X (with features such as Mileage and Year) and y (target values like Price).\n",
    "#### We instantiate the DecisionTreeRegressor class with a maximum depth of 3 (max_depth=3), fit the model to the data, and then make predictions for the same dataset."
   ]
  },
  {
   "cell_type": "code",
   "execution_count": null,
   "id": "02ef87da-1dde-4b1d-828f-d8036dad7c61",
   "metadata": {},
   "outputs": [],
   "source": []
  },
  {
   "cell_type": "code",
   "execution_count": 65,
   "id": "97c30ca1-fb89-4c09-a2ea-6c30ab9abb46",
   "metadata": {},
   "outputs": [
    {
     "data": {
      "image/png": "[encoded data removed]",
      "text/plain": [
       "<Figure size 640x480 with 1 Axes>"
      ]
     },
     "metadata": {},
     "output_type": "display_data"
    }
   ],
   "source": [
    "\n",
    "# Plot regression line\n",
    "plt.scatter(X, y, color='blue', label=\"Data\")  # Scatter plot for the data\n",
    "plt.plot(X, predictions, color='red', label=\"DTR\")  # Regression line\n",
    "\n",
    "# Set labels for the axes\n",
    "plt.xlabel(\"X\")\n",
    "plt.ylabel(\"y\")\n",
    "\n",
    "# Add a legend\n",
    "plt.legend()\n",
    "\n",
    "# Add title\n",
    "plt.title(\"Decision Tree Regressor\")\n",
    "\n",
    "# Show the plot\n",
    "plt.show()"
   ]
  },
  {
   "cell_type": "code",
   "execution_count": null,
   "id": "40c96990-fdee-4b11-9902-e2d9c5e2b11a",
   "metadata": {},
   "outputs": [],
   "source": []
  }
 ],
 "metadata": {
  "kernelspec": {
   "display_name": "Python 3 (ipykernel)",
   "language": "python",
   "name": "python3"
  },
  "language_info": {
   "codemirror_mode": {
    "name": "ipython",
    "version": 3
   },
   "file_extension": ".py",
   "mimetype": "text/x-python",
   "name": "python",
   "nbconvert_exporter": "python",
   "pygments_lexer": "ipython3",
   "version": "3.12.7"
  }
 },
 "nbformat": 4,
 "nbformat_minor": 5
}
